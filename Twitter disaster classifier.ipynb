{
 "cells": [
  {
   "cell_type": "code",
   "execution_count": 1,
   "metadata": {},
   "outputs": [
    {
     "name": "stderr",
     "output_type": "stream",
     "text": [
      "[nltk_data] Downloading package wordnet to\n",
      "[nltk_data]     /Users/teemuraitaluoto/nltk_data...\n",
      "[nltk_data]   Package wordnet is already up-to-date!\n",
      "[nltk_data] Downloading package punkt to\n",
      "[nltk_data]     /Users/teemuraitaluoto/nltk_data...\n",
      "[nltk_data]   Package punkt is already up-to-date!\n"
     ]
    }
   ],
   "source": [
    "import numpy as np\n",
    "import os\n",
    "import pandas as pd\n",
    "import nltk\n",
    "from nltk.tokenize import word_tokenize\n",
    "from collections import Counter\n",
    "nltk.download('wordnet')\n",
    "nltk.download('punkt')\n",
    "from nltk.stem import WordNetLemmatizer\n",
    "import random\n",
    "import logging\n",
    "logging.getLogger().setLevel('INFO')\n",
    "\n",
    "lemmatizer = WordNetLemmatizer()"
   ]
  },
  {
   "cell_type": "code",
   "execution_count": 2,
   "metadata": {},
   "outputs": [],
   "source": [
    "import tensorflow as tf\n",
    "from tensorflow.keras.models import Sequential\n",
    "from tensorflow.keras.layers import Dense, Flatten, Activation\n",
    "\n",
    "from tensorflow.keras.callbacks import TensorBoard"
   ]
  },
  {
   "cell_type": "code",
   "execution_count": 3,
   "metadata": {},
   "outputs": [],
   "source": [
    "DIR = '/users/teemuraitaluoto/Downloads/tweet-data'"
   ]
  },
  {
   "cell_type": "code",
   "execution_count": 4,
   "metadata": {},
   "outputs": [],
   "source": [
    "training_set = pd.read_csv(os.path.join(DIR, 'train.csv'))"
   ]
  },
  {
   "cell_type": "code",
   "execution_count": 5,
   "metadata": {},
   "outputs": [
    {
     "data": {
      "text/html": [
       "<div>\n",
       "<style scoped>\n",
       "    .dataframe tbody tr th:only-of-type {\n",
       "        vertical-align: middle;\n",
       "    }\n",
       "\n",
       "    .dataframe tbody tr th {\n",
       "        vertical-align: top;\n",
       "    }\n",
       "\n",
       "    .dataframe thead th {\n",
       "        text-align: right;\n",
       "    }\n",
       "</style>\n",
       "<table border=\"1\" class=\"dataframe\">\n",
       "  <thead>\n",
       "    <tr style=\"text-align: right;\">\n",
       "      <th></th>\n",
       "      <th>id</th>\n",
       "      <th>keyword</th>\n",
       "      <th>location</th>\n",
       "      <th>text</th>\n",
       "      <th>target</th>\n",
       "    </tr>\n",
       "  </thead>\n",
       "  <tbody>\n",
       "    <tr>\n",
       "      <td>0</td>\n",
       "      <td>1</td>\n",
       "      <td>NaN</td>\n",
       "      <td>NaN</td>\n",
       "      <td>Our Deeds are the Reason of this #earthquake M...</td>\n",
       "      <td>1</td>\n",
       "    </tr>\n",
       "    <tr>\n",
       "      <td>1</td>\n",
       "      <td>4</td>\n",
       "      <td>NaN</td>\n",
       "      <td>NaN</td>\n",
       "      <td>Forest fire near La Ronge Sask. Canada</td>\n",
       "      <td>1</td>\n",
       "    </tr>\n",
       "    <tr>\n",
       "      <td>2</td>\n",
       "      <td>5</td>\n",
       "      <td>NaN</td>\n",
       "      <td>NaN</td>\n",
       "      <td>All residents asked to 'shelter in place' are ...</td>\n",
       "      <td>1</td>\n",
       "    </tr>\n",
       "    <tr>\n",
       "      <td>3</td>\n",
       "      <td>6</td>\n",
       "      <td>NaN</td>\n",
       "      <td>NaN</td>\n",
       "      <td>13,000 people receive #wildfires evacuation or...</td>\n",
       "      <td>1</td>\n",
       "    </tr>\n",
       "    <tr>\n",
       "      <td>4</td>\n",
       "      <td>7</td>\n",
       "      <td>NaN</td>\n",
       "      <td>NaN</td>\n",
       "      <td>Just got sent this photo from Ruby #Alaska as ...</td>\n",
       "      <td>1</td>\n",
       "    </tr>\n",
       "  </tbody>\n",
       "</table>\n",
       "</div>"
      ],
      "text/plain": [
       "   id keyword location                                               text  \\\n",
       "0   1     NaN      NaN  Our Deeds are the Reason of this #earthquake M...   \n",
       "1   4     NaN      NaN             Forest fire near La Ronge Sask. Canada   \n",
       "2   5     NaN      NaN  All residents asked to 'shelter in place' are ...   \n",
       "3   6     NaN      NaN  13,000 people receive #wildfires evacuation or...   \n",
       "4   7     NaN      NaN  Just got sent this photo from Ruby #Alaska as ...   \n",
       "\n",
       "   target  \n",
       "0       1  \n",
       "1       1  \n",
       "2       1  \n",
       "3       1  \n",
       "4       1  "
      ]
     },
     "execution_count": 5,
     "metadata": {},
     "output_type": "execute_result"
    }
   ],
   "source": [
    "training_set.head()"
   ]
  },
  {
   "cell_type": "code",
   "execution_count": 6,
   "metadata": {},
   "outputs": [
    {
     "name": "stdout",
     "output_type": "stream",
     "text": [
      "143758\n"
     ]
    }
   ],
   "source": [
    "def create_lexicon():\n",
    "    lexicon = []\n",
    "    all_words = training_set['text'].values\n",
    "    for word in all_words:\n",
    "        word = word.lower()\n",
    "        tokenized_word = word_tokenize(word)\n",
    "        for w in tokenized_word:\n",
    "            lemmatized_word = lemmatizer.lemmatize(w)\n",
    "            lexicon.append(lemmatized_word)\n",
    "    return lexicon\n",
    "\n",
    "lexicon = create_lexicon()\n",
    "print(len(lexicon))"
   ]
  },
  {
   "cell_type": "code",
   "execution_count": 7,
   "metadata": {},
   "outputs": [],
   "source": [
    "word_counts = Counter(lexicon)"
   ]
  },
  {
   "cell_type": "code",
   "execution_count": 8,
   "metadata": {},
   "outputs": [],
   "source": [
    "new_lexicon = []\n",
    "for w in word_counts:\n",
    "    if 1000 > word_counts[w] > 4:\n",
    "        new_lexicon.append(w)"
   ]
  },
  {
   "cell_type": "code",
   "execution_count": 9,
   "metadata": {},
   "outputs": [
    {
     "name": "stdout",
     "output_type": "stream",
     "text": [
      "2723\n"
     ]
    }
   ],
   "source": [
    "print(len(new_lexicon))"
   ]
  },
  {
   "cell_type": "code",
   "execution_count": 15,
   "metadata": {},
   "outputs": [],
   "source": [
    "def sample_handling(training_set,lexicon):\n",
    "\n",
    "    featureset = []\n",
    "\n",
    "    for word_index, row in enumerate(training_set.iterrows()):\n",
    "        row = row[1]\n",
    "        current_words = word_tokenize(row['text'].lower())\n",
    "        current_words = [lemmatizer.lemmatize(i) for i in current_words]\n",
    "        features = np.zeros(len(lexicon))\n",
    "        for word in current_words:\n",
    "            if word.lower() in lexicon:\n",
    "                index_value = lexicon.index(word.lower())\n",
    "                features[index_value] += 1\n",
    "\n",
    "        #classification = np.zeros(2)\n",
    "        #classification[row['target']] += 1\n",
    "        \n",
    "        \n",
    "        \n",
    "        features = list(features)\n",
    "        featureset.append([features, row['target']])\n",
    "        \n",
    "    \n",
    "        if word_index % 500 == 0:\n",
    "            logging.info(word_index)\n",
    "    \n",
    "    return featureset"
   ]
  },
  {
   "cell_type": "code",
   "execution_count": 16,
   "metadata": {},
   "outputs": [
    {
     "name": "stderr",
     "output_type": "stream",
     "text": [
      "INFO:root:0\n",
      "INFO:root:500\n",
      "INFO:root:1000\n",
      "INFO:root:1500\n",
      "INFO:root:2000\n",
      "INFO:root:2500\n",
      "INFO:root:3000\n",
      "INFO:root:3500\n",
      "INFO:root:4000\n",
      "INFO:root:4500\n",
      "INFO:root:5000\n",
      "INFO:root:5500\n",
      "INFO:root:6000\n",
      "INFO:root:6500\n",
      "INFO:root:7000\n",
      "INFO:root:7500\n",
      "INFO:root:Shuffling\n"
     ]
    }
   ],
   "source": [
    "def create_feature_sets_and_labels(test_size = 0.1):\n",
    "    features = []\n",
    "    \n",
    "    features += sample_handling(training_set,new_lexicon)\n",
    "    logging.info('Shuffling')\n",
    "    random.shuffle(features)\n",
    "    features = np.array(features)\n",
    "\n",
    "    testing_size = int(test_size*len(features))\n",
    "\n",
    "    train_x = list(features[:,0][:-testing_size])\n",
    "    train_y = list(features[:,1][:-testing_size])\n",
    "    test_x = list(features[:,0][-testing_size:])\n",
    "    test_y = list(features[:,1][-testing_size:])\n",
    "    \n",
    "    train_x = np.array(train_x)\n",
    "    train_y = np.array(train_y)\n",
    "    test_x = np.array(test_x)\n",
    "    test_y = np.array(test_y)\n",
    "    \n",
    "    return train_x, train_y, test_x, test_y\n",
    "\n",
    "train_x, train_y, test_x, test_y = create_feature_sets_and_labels()"
   ]
  },
  {
   "cell_type": "code",
   "execution_count": 20,
   "metadata": {},
   "outputs": [
    {
     "name": "stderr",
     "output_type": "stream",
     "text": [
      "INFO:root:1-conv-32-nodes-0-dense\n"
     ]
    },
    {
     "name": "stdout",
     "output_type": "stream",
     "text": [
      "Train on 6166 samples, validate on 686 samples\n",
      "Epoch 1/10\n",
      "6166/6166 [==============================] - 1s 98us/sample - loss: 0.6537 - accuracy: 0.6985 - val_loss: 0.6176 - val_accuracy: 0.7566\n",
      "Epoch 2/10\n",
      "6166/6166 [==============================] - 0s 47us/sample - loss: 0.5895 - accuracy: 0.7820 - val_loss: 0.5752 - val_accuracy: 0.7770\n",
      "Epoch 3/10\n",
      "6166/6166 [==============================] - 0s 43us/sample - loss: 0.5468 - accuracy: 0.8093 - val_loss: 0.5465 - val_accuracy: 0.7886\n",
      "Epoch 4/10\n",
      "6166/6166 [==============================] - 0s 45us/sample - loss: 0.5153 - accuracy: 0.8203 - val_loss: 0.5258 - val_accuracy: 0.8061\n",
      "Epoch 5/10\n",
      "6166/6166 [==============================] - 0s 44us/sample - loss: 0.4906 - accuracy: 0.8294 - val_loss: 0.5104 - val_accuracy: 0.8120\n",
      "Epoch 6/10\n",
      "6166/6166 [==============================] - 0s 49us/sample - loss: 0.4705 - accuracy: 0.8360 - val_loss: 0.4981 - val_accuracy: 0.8134\n",
      "Epoch 7/10\n",
      "6166/6166 [==============================] - 0s 52us/sample - loss: 0.4538 - accuracy: 0.8419 - val_loss: 0.4881 - val_accuracy: 0.8163\n",
      "Epoch 8/10\n",
      "6166/6166 [==============================] - 0s 49us/sample - loss: 0.4393 - accuracy: 0.8458 - val_loss: 0.4802 - val_accuracy: 0.8163\n",
      "Epoch 9/10\n",
      "6166/6166 [==============================] - 0s 46us/sample - loss: 0.4268 - accuracy: 0.8477 - val_loss: 0.4738 - val_accuracy: 0.8163\n",
      "Epoch 10/10\n",
      "6166/6166 [==============================] - 0s 48us/sample - loss: 0.4156 - accuracy: 0.8514 - val_loss: 0.4683 - val_accuracy: 0.8149\n",
      "INFO:tensorflow:Assets written to: 1-conv-32-nodes-0-dense.model/assets\n"
     ]
    },
    {
     "name": "stderr",
     "output_type": "stream",
     "text": [
      "INFO:tensorflow:Assets written to: 1-conv-32-nodes-0-dense.model/assets\n",
      "INFO:root:2-conv-32-nodes-0-dense\n"
     ]
    },
    {
     "name": "stdout",
     "output_type": "stream",
     "text": [
      "Train on 6166 samples, validate on 686 samples\n",
      "Epoch 1/10\n",
      "6166/6166 [==============================] - 1s 105us/sample - loss: 0.6546 - accuracy: 0.6857 - val_loss: 0.6183 - val_accuracy: 0.7507\n",
      "Epoch 2/10\n",
      "6166/6166 [==============================] - 0s 50us/sample - loss: 0.5899 - accuracy: 0.7794 - val_loss: 0.5760 - val_accuracy: 0.7857\n",
      "Epoch 3/10\n",
      "6166/6166 [==============================] - 0s 47us/sample - loss: 0.5472 - accuracy: 0.8070 - val_loss: 0.5470 - val_accuracy: 0.7915\n",
      "Epoch 4/10\n",
      "6166/6166 [==============================] - 0s 47us/sample - loss: 0.5155 - accuracy: 0.8210 - val_loss: 0.5261 - val_accuracy: 0.7872\n",
      "Epoch 5/10\n",
      "6166/6166 [==============================] - 0s 49us/sample - loss: 0.4908 - accuracy: 0.8283 - val_loss: 0.5104 - val_accuracy: 0.7959\n",
      "Epoch 6/10\n",
      "6166/6166 [==============================] - 0s 52us/sample - loss: 0.4707 - accuracy: 0.8338 - val_loss: 0.4979 - val_accuracy: 0.8047\n",
      "Epoch 7/10\n",
      "6166/6166 [==============================] - 0s 54us/sample - loss: 0.4538 - accuracy: 0.8385 - val_loss: 0.4882 - val_accuracy: 0.8061\n",
      "Epoch 8/10\n",
      "6166/6166 [==============================] - 0s 49us/sample - loss: 0.4394 - accuracy: 0.8435 - val_loss: 0.4802 - val_accuracy: 0.8047\n",
      "Epoch 9/10\n",
      "6166/6166 [==============================] - 0s 52us/sample - loss: 0.4268 - accuracy: 0.8459 - val_loss: 0.4735 - val_accuracy: 0.8076\n",
      "Epoch 10/10\n",
      "6166/6166 [==============================] - 0s 54us/sample - loss: 0.4157 - accuracy: 0.8511 - val_loss: 0.4679 - val_accuracy: 0.8076\n",
      "INFO:tensorflow:Assets written to: 2-conv-32-nodes-0-dense.model/assets\n"
     ]
    },
    {
     "name": "stderr",
     "output_type": "stream",
     "text": [
      "INFO:tensorflow:Assets written to: 2-conv-32-nodes-0-dense.model/assets\n",
      "INFO:root:3-conv-32-nodes-0-dense\n"
     ]
    },
    {
     "name": "stdout",
     "output_type": "stream",
     "text": [
      "Train on 6166 samples, validate on 686 samples\n",
      "Epoch 1/10\n",
      "6166/6166 [==============================] - 1s 103us/sample - loss: 0.6579 - accuracy: 0.6677 - val_loss: 0.6210 - val_accuracy: 0.7595\n",
      "Epoch 2/10\n",
      "6166/6166 [==============================] - 0s 44us/sample - loss: 0.5925 - accuracy: 0.7869 - val_loss: 0.5776 - val_accuracy: 0.7915\n",
      "Epoch 3/10\n",
      "6166/6166 [==============================] - 0s 53us/sample - loss: 0.5490 - accuracy: 0.8083 - val_loss: 0.5483 - val_accuracy: 0.7988\n",
      "Epoch 4/10\n",
      "6166/6166 [==============================] - 0s 49us/sample - loss: 0.5170 - accuracy: 0.8200 - val_loss: 0.5272 - val_accuracy: 0.8076\n",
      "Epoch 5/10\n",
      "6166/6166 [==============================] - 0s 50us/sample - loss: 0.4920 - accuracy: 0.8281 - val_loss: 0.5113 - val_accuracy: 0.8076\n",
      "Epoch 6/10\n",
      "6166/6166 [==============================] - 0s 48us/sample - loss: 0.4718 - accuracy: 0.8333 - val_loss: 0.4989 - val_accuracy: 0.8076\n",
      "Epoch 7/10\n",
      "6166/6166 [==============================] - 0s 46us/sample - loss: 0.4549 - accuracy: 0.8394 - val_loss: 0.4889 - val_accuracy: 0.8076\n",
      "Epoch 8/10\n",
      "6166/6166 [==============================] - 0s 50us/sample - loss: 0.4402 - accuracy: 0.8432 - val_loss: 0.4809 - val_accuracy: 0.8090\n",
      "Epoch 9/10\n",
      "6166/6166 [==============================] - 0s 48us/sample - loss: 0.4275 - accuracy: 0.8456 - val_loss: 0.4742 - val_accuracy: 0.8105\n",
      "Epoch 10/10\n",
      "6166/6166 [==============================] - 0s 49us/sample - loss: 0.4164 - accuracy: 0.8500 - val_loss: 0.4689 - val_accuracy: 0.8120\n",
      "INFO:tensorflow:Assets written to: 3-conv-32-nodes-0-dense.model/assets\n"
     ]
    },
    {
     "name": "stderr",
     "output_type": "stream",
     "text": [
      "INFO:tensorflow:Assets written to: 3-conv-32-nodes-0-dense.model/assets\n",
      "INFO:root:1-conv-64-nodes-0-dense\n"
     ]
    },
    {
     "name": "stdout",
     "output_type": "stream",
     "text": [
      "Train on 6166 samples, validate on 686 samples\n",
      "Epoch 1/10\n",
      "6166/6166 [==============================] - 1s 120us/sample - loss: 0.6549 - accuracy: 0.6763 - val_loss: 0.6194 - val_accuracy: 0.7391\n",
      "Epoch 2/10\n",
      "6166/6166 [==============================] - 0s 42us/sample - loss: 0.5908 - accuracy: 0.7754 - val_loss: 0.5769 - val_accuracy: 0.7770\n",
      "Epoch 3/10\n",
      "6166/6166 [==============================] - 0s 42us/sample - loss: 0.5480 - accuracy: 0.8083 - val_loss: 0.5487 - val_accuracy: 0.7915\n",
      "Epoch 4/10\n",
      "6166/6166 [==============================] - 0s 44us/sample - loss: 0.5162 - accuracy: 0.8210 - val_loss: 0.5277 - val_accuracy: 0.7974\n",
      "Epoch 5/10\n",
      "6166/6166 [==============================] - 0s 45us/sample - loss: 0.4916 - accuracy: 0.8258 - val_loss: 0.5119 - val_accuracy: 0.7988\n",
      "Epoch 6/10\n",
      "6166/6166 [==============================] - 0s 43us/sample - loss: 0.4714 - accuracy: 0.8338 - val_loss: 0.5000 - val_accuracy: 0.8032\n",
      "Epoch 7/10\n",
      "6166/6166 [==============================] - 0s 45us/sample - loss: 0.4545 - accuracy: 0.8388 - val_loss: 0.4900 - val_accuracy: 0.8061\n",
      "Epoch 8/10\n",
      "6166/6166 [==============================] - 0s 43us/sample - loss: 0.4400 - accuracy: 0.8416 - val_loss: 0.4819 - val_accuracy: 0.8105\n",
      "Epoch 9/10\n",
      "6166/6166 [==============================] - 0s 44us/sample - loss: 0.4274 - accuracy: 0.8467 - val_loss: 0.4753 - val_accuracy: 0.8149\n",
      "Epoch 10/10\n",
      "6166/6166 [==============================] - 0s 44us/sample - loss: 0.4162 - accuracy: 0.8501 - val_loss: 0.4700 - val_accuracy: 0.8149\n",
      "INFO:tensorflow:Assets written to: 1-conv-64-nodes-0-dense.model/assets\n"
     ]
    },
    {
     "name": "stderr",
     "output_type": "stream",
     "text": [
      "INFO:tensorflow:Assets written to: 1-conv-64-nodes-0-dense.model/assets\n",
      "INFO:root:2-conv-64-nodes-0-dense\n"
     ]
    },
    {
     "name": "stdout",
     "output_type": "stream",
     "text": [
      "Train on 6166 samples, validate on 686 samples\n",
      "Epoch 1/10\n",
      "6166/6166 [==============================] - 1s 108us/sample - loss: 0.6540 - accuracy: 0.6954 - val_loss: 0.6164 - val_accuracy: 0.7478\n",
      "Epoch 2/10\n",
      "6166/6166 [==============================] - 0s 45us/sample - loss: 0.5897 - accuracy: 0.7814 - val_loss: 0.5744 - val_accuracy: 0.7784\n",
      "Epoch 3/10\n",
      "6166/6166 [==============================] - 0s 51us/sample - loss: 0.5470 - accuracy: 0.8094 - val_loss: 0.5459 - val_accuracy: 0.7872\n",
      "Epoch 4/10\n",
      "6166/6166 [==============================] - 0s 49us/sample - loss: 0.5154 - accuracy: 0.8201 - val_loss: 0.5254 - val_accuracy: 0.7872\n",
      "Epoch 5/10\n",
      "6166/6166 [==============================] - 0s 46us/sample - loss: 0.4907 - accuracy: 0.8266 - val_loss: 0.5099 - val_accuracy: 0.7930\n",
      "Epoch 6/10\n",
      "6166/6166 [==============================] - 0s 45us/sample - loss: 0.4708 - accuracy: 0.8331 - val_loss: 0.4977 - val_accuracy: 0.8032\n",
      "Epoch 7/10\n",
      "6166/6166 [==============================] - 0s 44us/sample - loss: 0.4540 - accuracy: 0.8390 - val_loss: 0.4880 - val_accuracy: 0.8076\n",
      "Epoch 8/10\n",
      "6166/6166 [==============================] - 0s 45us/sample - loss: 0.4396 - accuracy: 0.8398 - val_loss: 0.4801 - val_accuracy: 0.8047\n",
      "Epoch 9/10\n",
      "6166/6166 [==============================] - 0s 44us/sample - loss: 0.4270 - accuracy: 0.8438 - val_loss: 0.4736 - val_accuracy: 0.8076\n",
      "Epoch 10/10\n",
      "6166/6166 [==============================] - 0s 44us/sample - loss: 0.4159 - accuracy: 0.8501 - val_loss: 0.4681 - val_accuracy: 0.8105\n",
      "INFO:tensorflow:Assets written to: 2-conv-64-nodes-0-dense.model/assets\n"
     ]
    },
    {
     "name": "stderr",
     "output_type": "stream",
     "text": [
      "INFO:tensorflow:Assets written to: 2-conv-64-nodes-0-dense.model/assets\n",
      "INFO:root:3-conv-64-nodes-0-dense\n"
     ]
    },
    {
     "name": "stdout",
     "output_type": "stream",
     "text": [
      "Train on 6166 samples, validate on 686 samples\n",
      "Epoch 1/10\n",
      "6166/6166 [==============================] - 1s 127us/sample - loss: 0.6558 - accuracy: 0.6777 - val_loss: 0.6210 - val_accuracy: 0.7536\n",
      "Epoch 2/10\n",
      "6166/6166 [==============================] - 0s 47us/sample - loss: 0.5910 - accuracy: 0.7789 - val_loss: 0.5786 - val_accuracy: 0.7770\n",
      "Epoch 3/10\n",
      "6166/6166 [==============================] - 0s 46us/sample - loss: 0.5481 - accuracy: 0.8052 - val_loss: 0.5499 - val_accuracy: 0.7828\n",
      "Epoch 4/10\n",
      "6166/6166 [==============================] - 0s 48us/sample - loss: 0.5165 - accuracy: 0.8184 - val_loss: 0.5287 - val_accuracy: 0.7886\n",
      "Epoch 5/10\n",
      "6166/6166 [==============================] - 0s 49us/sample - loss: 0.4917 - accuracy: 0.8281 - val_loss: 0.5132 - val_accuracy: 0.7988\n",
      "Epoch 6/10\n",
      "6166/6166 [==============================] - 0s 51us/sample - loss: 0.4715 - accuracy: 0.8354 - val_loss: 0.5009 - val_accuracy: 0.8032\n",
      "Epoch 7/10\n",
      "6166/6166 [==============================] - 0s 50us/sample - loss: 0.4546 - accuracy: 0.8401 - val_loss: 0.4908 - val_accuracy: 0.8032\n",
      "Epoch 8/10\n",
      "6166/6166 [==============================] - 0s 48us/sample - loss: 0.4401 - accuracy: 0.8432 - val_loss: 0.4828 - val_accuracy: 0.8105\n",
      "Epoch 9/10\n",
      "6166/6166 [==============================] - 0s 45us/sample - loss: 0.4274 - accuracy: 0.8454 - val_loss: 0.4759 - val_accuracy: 0.8120\n",
      "Epoch 10/10\n",
      "6166/6166 [==============================] - 0s 49us/sample - loss: 0.4163 - accuracy: 0.8493 - val_loss: 0.4705 - val_accuracy: 0.8120\n",
      "INFO:tensorflow:Assets written to: 3-conv-64-nodes-0-dense.model/assets\n"
     ]
    },
    {
     "name": "stderr",
     "output_type": "stream",
     "text": [
      "INFO:tensorflow:Assets written to: 3-conv-64-nodes-0-dense.model/assets\n",
      "INFO:root:1-conv-128-nodes-0-dense\n"
     ]
    },
    {
     "name": "stdout",
     "output_type": "stream",
     "text": [
      "Train on 6166 samples, validate on 686 samples\n",
      "Epoch 1/10\n",
      "6166/6166 [==============================] - 1s 100us/sample - loss: 0.6565 - accuracy: 0.6800 - val_loss: 0.6184 - val_accuracy: 0.7493\n",
      "Epoch 2/10\n",
      "6166/6166 [==============================] - 0s 41us/sample - loss: 0.5920 - accuracy: 0.7825 - val_loss: 0.5763 - val_accuracy: 0.7886\n",
      "Epoch 3/10\n",
      "6166/6166 [==============================] - 0s 39us/sample - loss: 0.5487 - accuracy: 0.8077 - val_loss: 0.5472 - val_accuracy: 0.7930\n",
      "Epoch 4/10\n",
      "6166/6166 [==============================] - 0s 38us/sample - loss: 0.5167 - accuracy: 0.8219 - val_loss: 0.5263 - val_accuracy: 0.7974\n",
      "Epoch 5/10\n",
      "6166/6166 [==============================] - 0s 39us/sample - loss: 0.4917 - accuracy: 0.8300 - val_loss: 0.5103 - val_accuracy: 0.8061\n",
      "Epoch 6/10\n",
      "6166/6166 [==============================] - 0s 39us/sample - loss: 0.4715 - accuracy: 0.8355 - val_loss: 0.4979 - val_accuracy: 0.8120\n",
      "Epoch 7/10\n",
      "6166/6166 [==============================] - 0s 50us/sample - loss: 0.4545 - accuracy: 0.8381 - val_loss: 0.4882 - val_accuracy: 0.8105\n",
      "Epoch 8/10\n",
      "6166/6166 [==============================] - 0s 41us/sample - loss: 0.4399 - accuracy: 0.8414 - val_loss: 0.4801 - val_accuracy: 0.8120\n",
      "Epoch 9/10\n",
      "6166/6166 [==============================] - 0s 40us/sample - loss: 0.4272 - accuracy: 0.8476 - val_loss: 0.4734 - val_accuracy: 0.8134\n",
      "Epoch 10/10\n",
      "6166/6166 [==============================] - 0s 43us/sample - loss: 0.4160 - accuracy: 0.8495 - val_loss: 0.4679 - val_accuracy: 0.8149\n",
      "INFO:tensorflow:Assets written to: 1-conv-128-nodes-0-dense.model/assets\n"
     ]
    },
    {
     "name": "stderr",
     "output_type": "stream",
     "text": [
      "INFO:tensorflow:Assets written to: 1-conv-128-nodes-0-dense.model/assets\n",
      "INFO:root:2-conv-128-nodes-0-dense\n"
     ]
    },
    {
     "name": "stdout",
     "output_type": "stream",
     "text": [
      "Train on 6166 samples, validate on 686 samples\n",
      "Epoch 1/10\n",
      "6166/6166 [==============================] - 1s 89us/sample - loss: 0.6541 - accuracy: 0.6836 - val_loss: 0.6146 - val_accuracy: 0.7536\n",
      "Epoch 2/10\n",
      "6166/6166 [==============================] - 0s 42us/sample - loss: 0.5901 - accuracy: 0.7864 - val_loss: 0.5727 - val_accuracy: 0.7828\n",
      "Epoch 3/10\n",
      "6166/6166 [==============================] - 0s 42us/sample - loss: 0.5474 - accuracy: 0.8101 - val_loss: 0.5448 - val_accuracy: 0.7945\n",
      "Epoch 4/10\n",
      "6166/6166 [==============================] - 0s 41us/sample - loss: 0.5158 - accuracy: 0.8219 - val_loss: 0.5237 - val_accuracy: 0.7930\n",
      "Epoch 5/10\n",
      "6166/6166 [==============================] - 0s 41us/sample - loss: 0.4911 - accuracy: 0.8312 - val_loss: 0.5084 - val_accuracy: 0.7945\n",
      "Epoch 6/10\n",
      "6166/6166 [==============================] - 0s 41us/sample - loss: 0.4710 - accuracy: 0.8362 - val_loss: 0.4963 - val_accuracy: 0.8047\n",
      "Epoch 7/10\n",
      "6166/6166 [==============================] - 0s 41us/sample - loss: 0.4541 - accuracy: 0.8396 - val_loss: 0.4865 - val_accuracy: 0.8090\n",
      "Epoch 8/10\n",
      "6166/6166 [==============================] - 0s 41us/sample - loss: 0.4396 - accuracy: 0.8432 - val_loss: 0.4788 - val_accuracy: 0.8061\n",
      "Epoch 9/10\n",
      "6166/6166 [==============================] - 0s 41us/sample - loss: 0.4271 - accuracy: 0.8469 - val_loss: 0.4720 - val_accuracy: 0.8076\n",
      "Epoch 10/10\n",
      "6166/6166 [==============================] - 0s 41us/sample - loss: 0.4159 - accuracy: 0.8508 - val_loss: 0.4667 - val_accuracy: 0.8076\n",
      "INFO:tensorflow:Assets written to: 2-conv-128-nodes-0-dense.model/assets\n"
     ]
    },
    {
     "name": "stderr",
     "output_type": "stream",
     "text": [
      "INFO:tensorflow:Assets written to: 2-conv-128-nodes-0-dense.model/assets\n",
      "INFO:root:3-conv-128-nodes-0-dense\n"
     ]
    },
    {
     "name": "stdout",
     "output_type": "stream",
     "text": [
      "Train on 6166 samples, validate on 686 samples\n",
      "Epoch 1/10\n",
      "6166/6166 [==============================] - 1s 88us/sample - loss: 0.6569 - accuracy: 0.6753 - val_loss: 0.6218 - val_accuracy: 0.7478\n",
      "Epoch 2/10\n",
      "6166/6166 [==============================] - 0s 41us/sample - loss: 0.5910 - accuracy: 0.7794 - val_loss: 0.5779 - val_accuracy: 0.7755\n",
      "Epoch 3/10\n",
      "6166/6166 [==============================] - 0s 41us/sample - loss: 0.5479 - accuracy: 0.8073 - val_loss: 0.5492 - val_accuracy: 0.7843\n",
      "Epoch 4/10\n",
      "6166/6166 [==============================] - 0s 46us/sample - loss: 0.5161 - accuracy: 0.8195 - val_loss: 0.5281 - val_accuracy: 0.7915\n",
      "Epoch 5/10\n",
      "6166/6166 [==============================] - 0s 41us/sample - loss: 0.4913 - accuracy: 0.8274 - val_loss: 0.5123 - val_accuracy: 0.8003\n",
      "Epoch 6/10\n",
      "6166/6166 [==============================] - 0s 42us/sample - loss: 0.4711 - accuracy: 0.8333 - val_loss: 0.4998 - val_accuracy: 0.8047\n",
      "Epoch 7/10\n",
      "6166/6166 [==============================] - 0s 41us/sample - loss: 0.4543 - accuracy: 0.8401 - val_loss: 0.4896 - val_accuracy: 0.8105\n",
      "Epoch 8/10\n",
      "6166/6166 [==============================] - 0s 41us/sample - loss: 0.4397 - accuracy: 0.8430 - val_loss: 0.4820 - val_accuracy: 0.8134\n",
      "Epoch 9/10\n",
      "6166/6166 [==============================] - 0s 42us/sample - loss: 0.4272 - accuracy: 0.8467 - val_loss: 0.4753 - val_accuracy: 0.8120\n",
      "Epoch 10/10\n",
      "6166/6166 [==============================] - 0s 41us/sample - loss: 0.4160 - accuracy: 0.8523 - val_loss: 0.4695 - val_accuracy: 0.8134\n",
      "INFO:tensorflow:Assets written to: 3-conv-128-nodes-0-dense.model/assets\n"
     ]
    },
    {
     "name": "stderr",
     "output_type": "stream",
     "text": [
      "INFO:tensorflow:Assets written to: 3-conv-128-nodes-0-dense.model/assets\n",
      "INFO:root:1-conv-32-nodes-1-dense\n"
     ]
    },
    {
     "name": "stdout",
     "output_type": "stream",
     "text": [
      "Train on 6166 samples, validate on 686 samples\n",
      "Epoch 1/10\n",
      "6166/6166 [==============================] - 1s 111us/sample - loss: 0.5691 - accuracy: 0.7528 - val_loss: 0.4667 - val_accuracy: 0.8003\n",
      "Epoch 2/10\n",
      "6166/6166 [==============================] - 0s 60us/sample - loss: 0.3917 - accuracy: 0.8425 - val_loss: 0.4416 - val_accuracy: 0.8105\n",
      "Epoch 3/10\n",
      "6166/6166 [==============================] - 0s 66us/sample - loss: 0.3203 - accuracy: 0.8716 - val_loss: 0.4576 - val_accuracy: 0.7974\n",
      "Epoch 4/10\n",
      "6166/6166 [==============================] - 0s 57us/sample - loss: 0.2767 - accuracy: 0.8909 - val_loss: 0.4782 - val_accuracy: 0.7959\n",
      "Epoch 5/10\n",
      "6166/6166 [==============================] - 0s 58us/sample - loss: 0.2435 - accuracy: 0.9064 - val_loss: 0.5027 - val_accuracy: 0.7872\n",
      "Epoch 6/10\n",
      "6166/6166 [==============================] - 0s 57us/sample - loss: 0.2165 - accuracy: 0.9179 - val_loss: 0.5393 - val_accuracy: 0.7901\n",
      "Epoch 7/10\n",
      "6166/6166 [==============================] - 0s 58us/sample - loss: 0.1945 - accuracy: 0.9270 - val_loss: 0.5646 - val_accuracy: 0.7828\n",
      "Epoch 8/10\n",
      "6166/6166 [==============================] - 0s 59us/sample - loss: 0.1751 - accuracy: 0.9361 - val_loss: 0.6055 - val_accuracy: 0.7915\n",
      "Epoch 9/10\n",
      "6166/6166 [==============================] - 0s 57us/sample - loss: 0.1593 - accuracy: 0.9408 - val_loss: 0.6410 - val_accuracy: 0.7857\n",
      "Epoch 10/10\n",
      "6166/6166 [==============================] - 0s 57us/sample - loss: 0.1440 - accuracy: 0.9497 - val_loss: 0.6756 - val_accuracy: 0.7799\n",
      "INFO:tensorflow:Assets written to: 1-conv-32-nodes-1-dense.model/assets\n"
     ]
    },
    {
     "name": "stderr",
     "output_type": "stream",
     "text": [
      "INFO:tensorflow:Assets written to: 1-conv-32-nodes-1-dense.model/assets\n",
      "INFO:root:2-conv-32-nodes-1-dense\n"
     ]
    },
    {
     "name": "stdout",
     "output_type": "stream",
     "text": [
      "Train on 6166 samples, validate on 686 samples\n",
      "Epoch 1/10\n",
      "6166/6166 [==============================] - 1s 154us/sample - loss: 0.5751 - accuracy: 0.7404 - val_loss: 0.4771 - val_accuracy: 0.8017\n",
      "Epoch 2/10\n",
      "6166/6166 [==============================] - 0s 57us/sample - loss: 0.3961 - accuracy: 0.8428 - val_loss: 0.4489 - val_accuracy: 0.8149\n",
      "Epoch 3/10\n",
      "6166/6166 [==============================] - 0s 58us/sample - loss: 0.3224 - accuracy: 0.8686 - val_loss: 0.4579 - val_accuracy: 0.8003\n",
      "Epoch 4/10\n",
      "6166/6166 [==============================] - 0s 59us/sample - loss: 0.2779 - accuracy: 0.8900 - val_loss: 0.4829 - val_accuracy: 0.7930\n",
      "Epoch 5/10\n",
      "6166/6166 [==============================] - 0s 60us/sample - loss: 0.2452 - accuracy: 0.9022 - val_loss: 0.5092 - val_accuracy: 0.7915\n",
      "Epoch 6/10\n",
      "6166/6166 [==============================] - 0s 53us/sample - loss: 0.2176 - accuracy: 0.9139 - val_loss: 0.5391 - val_accuracy: 0.8003\n",
      "Epoch 7/10\n",
      "6166/6166 [==============================] - 0s 74us/sample - loss: 0.1957 - accuracy: 0.9256 - val_loss: 0.5777 - val_accuracy: 0.7915\n",
      "Epoch 8/10\n",
      "6166/6166 [==============================] - 0s 73us/sample - loss: 0.1770 - accuracy: 0.9342 - val_loss: 0.6116 - val_accuracy: 0.7857\n",
      "Epoch 9/10\n",
      "6166/6166 [==============================] - 0s 56us/sample - loss: 0.1610 - accuracy: 0.9416 - val_loss: 0.6414 - val_accuracy: 0.7872\n",
      "Epoch 10/10\n",
      "6166/6166 [==============================] - 0s 67us/sample - loss: 0.1475 - accuracy: 0.9475 - val_loss: 0.6798 - val_accuracy: 0.7799\n",
      "INFO:tensorflow:Assets written to: 2-conv-32-nodes-1-dense.model/assets\n"
     ]
    },
    {
     "name": "stderr",
     "output_type": "stream",
     "text": [
      "INFO:tensorflow:Assets written to: 2-conv-32-nodes-1-dense.model/assets\n",
      "INFO:root:3-conv-32-nodes-1-dense\n"
     ]
    },
    {
     "name": "stdout",
     "output_type": "stream",
     "text": [
      "Train on 6166 samples, validate on 686 samples\n",
      "Epoch 1/10\n",
      "6166/6166 [==============================] - 1s 128us/sample - loss: 0.5645 - accuracy: 0.7533 - val_loss: 0.4699 - val_accuracy: 0.8047\n",
      "Epoch 2/10\n",
      "6166/6166 [==============================] - 0s 66us/sample - loss: 0.3901 - accuracy: 0.8441 - val_loss: 0.4396 - val_accuracy: 0.8163\n",
      "Epoch 3/10\n",
      "6166/6166 [==============================] - 0s 57us/sample - loss: 0.3173 - accuracy: 0.8727 - val_loss: 0.4499 - val_accuracy: 0.8003\n",
      "Epoch 4/10\n",
      "6166/6166 [==============================] - 0s 58us/sample - loss: 0.2717 - accuracy: 0.8951 - val_loss: 0.4735 - val_accuracy: 0.7974\n",
      "Epoch 5/10\n",
      "6166/6166 [==============================] - 0s 70us/sample - loss: 0.2379 - accuracy: 0.9108 - val_loss: 0.4953 - val_accuracy: 0.7901\n",
      "Epoch 6/10\n",
      "6166/6166 [==============================] - 0s 70us/sample - loss: 0.2081 - accuracy: 0.9222 - val_loss: 0.5252 - val_accuracy: 0.8003\n",
      "Epoch 7/10\n",
      "6166/6166 [==============================] - 0s 62us/sample - loss: 0.1845 - accuracy: 0.9346 - val_loss: 0.5602 - val_accuracy: 0.7974\n",
      "Epoch 8/10\n",
      "6166/6166 [==============================] - 0s 73us/sample - loss: 0.1639 - accuracy: 0.9419 - val_loss: 0.5888 - val_accuracy: 0.7915\n",
      "Epoch 9/10\n",
      "6166/6166 [==============================] - 0s 64us/sample - loss: 0.1474 - accuracy: 0.9494 - val_loss: 0.6246 - val_accuracy: 0.7974\n",
      "Epoch 10/10\n",
      "6166/6166 [==============================] - 0s 61us/sample - loss: 0.1341 - accuracy: 0.9536 - val_loss: 0.6616 - val_accuracy: 0.7828\n",
      "INFO:tensorflow:Assets written to: 3-conv-32-nodes-1-dense.model/assets\n"
     ]
    },
    {
     "name": "stderr",
     "output_type": "stream",
     "text": [
      "INFO:tensorflow:Assets written to: 3-conv-32-nodes-1-dense.model/assets\n",
      "INFO:root:1-conv-64-nodes-1-dense\n"
     ]
    },
    {
     "name": "stdout",
     "output_type": "stream",
     "text": [
      "Train on 6166 samples, validate on 686 samples\n",
      "Epoch 1/10\n",
      "6166/6166 [==============================] - 1s 132us/sample - loss: 0.5455 - accuracy: 0.7595 - val_loss: 0.4609 - val_accuracy: 0.8090\n",
      "Epoch 2/10\n",
      "6166/6166 [==============================] - 0s 72us/sample - loss: 0.3670 - accuracy: 0.8501 - val_loss: 0.4419 - val_accuracy: 0.8149\n",
      "Epoch 3/10\n",
      "6166/6166 [==============================] - 1s 84us/sample - loss: 0.2926 - accuracy: 0.8811 - val_loss: 0.4689 - val_accuracy: 0.7988\n",
      "Epoch 4/10\n",
      "6166/6166 [==============================] - 1s 81us/sample - loss: 0.2416 - accuracy: 0.9084 - val_loss: 0.5025 - val_accuracy: 0.8003\n",
      "Epoch 5/10\n",
      "6166/6166 [==============================] - 0s 70us/sample - loss: 0.2040 - accuracy: 0.9246 - val_loss: 0.5479 - val_accuracy: 0.7828\n",
      "Epoch 6/10\n",
      "6166/6166 [==============================] - 0s 71us/sample - loss: 0.1752 - accuracy: 0.9377 - val_loss: 0.5681 - val_accuracy: 0.7945\n",
      "Epoch 7/10\n",
      "6166/6166 [==============================] - 0s 79us/sample - loss: 0.1510 - accuracy: 0.9481 - val_loss: 0.6265 - val_accuracy: 0.7886\n",
      "Epoch 8/10\n",
      "6166/6166 [==============================] - 1s 83us/sample - loss: 0.1306 - accuracy: 0.9559 - val_loss: 0.6594 - val_accuracy: 0.7886\n",
      "Epoch 9/10\n",
      "6166/6166 [==============================] - 0s 73us/sample - loss: 0.1177 - accuracy: 0.9583 - val_loss: 0.6835 - val_accuracy: 0.7930\n",
      "Epoch 10/10\n",
      "6166/6166 [==============================] - 0s 70us/sample - loss: 0.1053 - accuracy: 0.9637 - val_loss: 0.7521 - val_accuracy: 0.7770\n",
      "INFO:tensorflow:Assets written to: 1-conv-64-nodes-1-dense.model/assets\n"
     ]
    },
    {
     "name": "stderr",
     "output_type": "stream",
     "text": [
      "INFO:tensorflow:Assets written to: 1-conv-64-nodes-1-dense.model/assets\n",
      "INFO:root:2-conv-64-nodes-1-dense\n"
     ]
    },
    {
     "name": "stdout",
     "output_type": "stream",
     "text": [
      "Train on 6166 samples, validate on 686 samples\n",
      "Epoch 1/10\n",
      "6166/6166 [==============================] - 1s 139us/sample - loss: 0.5510 - accuracy: 0.7478 - val_loss: 0.4528 - val_accuracy: 0.8061\n",
      "Epoch 2/10\n",
      "6166/6166 [==============================] - 1s 82us/sample - loss: 0.3692 - accuracy: 0.8474 - val_loss: 0.4409 - val_accuracy: 0.8032\n",
      "Epoch 3/10\n",
      "6166/6166 [==============================] - 1s 83us/sample - loss: 0.2945 - accuracy: 0.8782 - val_loss: 0.4665 - val_accuracy: 0.8032\n",
      "Epoch 4/10\n",
      "6166/6166 [==============================] - 1s 83us/sample - loss: 0.2464 - accuracy: 0.9009 - val_loss: 0.5064 - val_accuracy: 0.8003\n",
      "Epoch 5/10\n",
      "6166/6166 [==============================] - 1s 82us/sample - loss: 0.2086 - accuracy: 0.9187 - val_loss: 0.5360 - val_accuracy: 0.7857\n",
      "Epoch 6/10\n",
      "6166/6166 [==============================] - 1s 97us/sample - loss: 0.1782 - accuracy: 0.9369 - val_loss: 0.5729 - val_accuracy: 0.7813\n",
      "Epoch 7/10\n",
      "6166/6166 [==============================] - 0s 74us/sample - loss: 0.1559 - accuracy: 0.9457 - val_loss: 0.6269 - val_accuracy: 0.7843\n",
      "Epoch 8/10\n",
      "6166/6166 [==============================] - 0s 77us/sample - loss: 0.1384 - accuracy: 0.9510 - val_loss: 0.6681 - val_accuracy: 0.7915\n",
      "Epoch 9/10\n",
      "6166/6166 [==============================] - 1s 88us/sample - loss: 0.1211 - accuracy: 0.9567 - val_loss: 0.7039 - val_accuracy: 0.7843\n",
      "Epoch 10/10\n",
      "6166/6166 [==============================] - 1s 85us/sample - loss: 0.1091 - accuracy: 0.9619 - val_loss: 0.7586 - val_accuracy: 0.7741\n",
      "INFO:tensorflow:Assets written to: 2-conv-64-nodes-1-dense.model/assets\n"
     ]
    },
    {
     "name": "stderr",
     "output_type": "stream",
     "text": [
      "INFO:tensorflow:Assets written to: 2-conv-64-nodes-1-dense.model/assets\n",
      "INFO:root:3-conv-64-nodes-1-dense\n"
     ]
    },
    {
     "name": "stdout",
     "output_type": "stream",
     "text": [
      "Train on 6166 samples, validate on 686 samples\n",
      "Epoch 1/10\n",
      "6166/6166 [==============================] - 1s 140us/sample - loss: 0.5512 - accuracy: 0.7580 - val_loss: 0.4558 - val_accuracy: 0.8047\n",
      "Epoch 2/10\n",
      "6166/6166 [==============================] - 0s 71us/sample - loss: 0.3693 - accuracy: 0.8488 - val_loss: 0.4511 - val_accuracy: 0.8003\n",
      "Epoch 3/10\n",
      "6166/6166 [==============================] - 0s 81us/sample - loss: 0.2942 - accuracy: 0.8806 - val_loss: 0.4723 - val_accuracy: 0.8076\n",
      "Epoch 4/10\n",
      "6166/6166 [==============================] - 1s 86us/sample - loss: 0.2475 - accuracy: 0.9001 - val_loss: 0.5066 - val_accuracy: 0.7930\n",
      "Epoch 5/10\n",
      "6166/6166 [==============================] - 1s 88us/sample - loss: 0.2117 - accuracy: 0.9176 - val_loss: 0.5433 - val_accuracy: 0.7988\n",
      "Epoch 6/10\n",
      "6166/6166 [==============================] - 0s 74us/sample - loss: 0.1814 - accuracy: 0.9329 - val_loss: 0.5967 - val_accuracy: 0.7770\n",
      "Epoch 7/10\n",
      "6166/6166 [==============================] - 0s 71us/sample - loss: 0.1600 - accuracy: 0.9415 - val_loss: 0.6416 - val_accuracy: 0.7784\n",
      "Epoch 8/10\n",
      "6166/6166 [==============================] - 0s 71us/sample - loss: 0.1396 - accuracy: 0.9512 - val_loss: 0.6756 - val_accuracy: 0.7857\n",
      "Epoch 9/10\n",
      "6166/6166 [==============================] - 0s 73us/sample - loss: 0.1263 - accuracy: 0.9560 - val_loss: 0.7244 - val_accuracy: 0.7755\n",
      "Epoch 10/10\n",
      "6166/6166 [==============================] - 0s 74us/sample - loss: 0.1126 - accuracy: 0.9617 - val_loss: 0.7570 - val_accuracy: 0.7711\n",
      "INFO:tensorflow:Assets written to: 3-conv-64-nodes-1-dense.model/assets\n"
     ]
    },
    {
     "name": "stderr",
     "output_type": "stream",
     "text": [
      "INFO:tensorflow:Assets written to: 3-conv-64-nodes-1-dense.model/assets\n",
      "INFO:root:1-conv-128-nodes-1-dense\n"
     ]
    },
    {
     "name": "stdout",
     "output_type": "stream",
     "text": [
      "Train on 6166 samples, validate on 686 samples\n",
      "Epoch 1/10\n",
      "6166/6166 [==============================] - 1s 204us/sample - loss: 0.5313 - accuracy: 0.7541 - val_loss: 0.4501 - val_accuracy: 0.8047\n",
      "Epoch 2/10\n",
      "6166/6166 [==============================] - 1s 105us/sample - loss: 0.3503 - accuracy: 0.8536 - val_loss: 0.4524 - val_accuracy: 0.7974\n",
      "Epoch 3/10\n",
      "6166/6166 [==============================] - 1s 101us/sample - loss: 0.2698 - accuracy: 0.8934 - val_loss: 0.4892 - val_accuracy: 0.8003\n",
      "Epoch 4/10\n",
      "6166/6166 [==============================] - 1s 104us/sample - loss: 0.2155 - accuracy: 0.9197 - val_loss: 0.5309 - val_accuracy: 0.7901\n",
      "Epoch 5/10\n",
      "6166/6166 [==============================] - 1s 106us/sample - loss: 0.1764 - accuracy: 0.9366 - val_loss: 0.5984 - val_accuracy: 0.7886\n",
      "Epoch 6/10\n",
      "6166/6166 [==============================] - 1s 100us/sample - loss: 0.1464 - accuracy: 0.9504 - val_loss: 0.6393 - val_accuracy: 0.7813\n",
      "Epoch 7/10\n",
      "6166/6166 [==============================] - 1s 114us/sample - loss: 0.1242 - accuracy: 0.9582 - val_loss: 0.6835 - val_accuracy: 0.7901\n",
      "Epoch 8/10\n",
      "6166/6166 [==============================] - 1s 117us/sample - loss: 0.1071 - accuracy: 0.9643 - val_loss: 0.7256 - val_accuracy: 0.7828\n",
      "Epoch 9/10\n",
      "6166/6166 [==============================] - 1s 120us/sample - loss: 0.0943 - accuracy: 0.9692 - val_loss: 0.7852 - val_accuracy: 0.7755\n",
      "Epoch 10/10\n",
      "6166/6166 [==============================] - 1s 102us/sample - loss: 0.0877 - accuracy: 0.9693 - val_loss: 0.8267 - val_accuracy: 0.7770\n",
      "INFO:tensorflow:Assets written to: 1-conv-128-nodes-1-dense.model/assets\n"
     ]
    },
    {
     "name": "stderr",
     "output_type": "stream",
     "text": [
      "INFO:tensorflow:Assets written to: 1-conv-128-nodes-1-dense.model/assets\n",
      "INFO:root:2-conv-128-nodes-1-dense\n"
     ]
    },
    {
     "name": "stdout",
     "output_type": "stream",
     "text": [
      "Train on 6166 samples, validate on 686 samples\n",
      "Epoch 1/10\n",
      "6166/6166 [==============================] - 1s 173us/sample - loss: 0.5335 - accuracy: 0.7527 - val_loss: 0.4460 - val_accuracy: 0.8061\n",
      "Epoch 2/10\n",
      "6166/6166 [==============================] - 1s 105us/sample - loss: 0.3505 - accuracy: 0.8560 - val_loss: 0.4565 - val_accuracy: 0.8134\n",
      "Epoch 3/10\n",
      "6166/6166 [==============================] - 1s 104us/sample - loss: 0.2710 - accuracy: 0.8928 - val_loss: 0.4978 - val_accuracy: 0.7886\n",
      "Epoch 4/10\n",
      "6166/6166 [==============================] - 1s 104us/sample - loss: 0.2185 - accuracy: 0.9184 - val_loss: 0.5451 - val_accuracy: 0.7886\n",
      "Epoch 5/10\n",
      "6166/6166 [==============================] - 1s 107us/sample - loss: 0.1764 - accuracy: 0.9335 - val_loss: 0.5912 - val_accuracy: 0.7843\n",
      "Epoch 6/10\n",
      "6166/6166 [==============================] - 1s 122us/sample - loss: 0.1496 - accuracy: 0.9449 - val_loss: 0.6366 - val_accuracy: 0.7770\n",
      "Epoch 7/10\n",
      "6166/6166 [==============================] - 1s 107us/sample - loss: 0.1257 - accuracy: 0.9562 - val_loss: 0.6833 - val_accuracy: 0.7886\n",
      "Epoch 8/10\n",
      "6166/6166 [==============================] - 1s 104us/sample - loss: 0.1077 - accuracy: 0.9614 - val_loss: 0.7605 - val_accuracy: 0.7697\n",
      "Epoch 9/10\n",
      "6166/6166 [==============================] - 1s 103us/sample - loss: 0.0978 - accuracy: 0.9671 - val_loss: 0.7666 - val_accuracy: 0.7813\n",
      "Epoch 10/10\n",
      "6166/6166 [==============================] - 1s 104us/sample - loss: 0.0879 - accuracy: 0.9681 - val_loss: 0.8289 - val_accuracy: 0.7813\n",
      "INFO:tensorflow:Assets written to: 2-conv-128-nodes-1-dense.model/assets\n"
     ]
    },
    {
     "name": "stderr",
     "output_type": "stream",
     "text": [
      "INFO:tensorflow:Assets written to: 2-conv-128-nodes-1-dense.model/assets\n",
      "INFO:root:3-conv-128-nodes-1-dense\n"
     ]
    },
    {
     "name": "stdout",
     "output_type": "stream",
     "text": [
      "Train on 6166 samples, validate on 686 samples\n",
      "Epoch 1/10\n",
      "6166/6166 [==============================] - 1s 171us/sample - loss: 0.5324 - accuracy: 0.7609 - val_loss: 0.4477 - val_accuracy: 0.8017\n",
      "Epoch 2/10\n",
      "6166/6166 [==============================] - 1s 121us/sample - loss: 0.3505 - accuracy: 0.8581 - val_loss: 0.4445 - val_accuracy: 0.8061\n",
      "Epoch 3/10\n",
      "6166/6166 [==============================] - 1s 105us/sample - loss: 0.2688 - accuracy: 0.8923 - val_loss: 0.4839 - val_accuracy: 0.7901\n",
      "Epoch 4/10\n",
      "6166/6166 [==============================] - 1s 103us/sample - loss: 0.2157 - accuracy: 0.9192 - val_loss: 0.5227 - val_accuracy: 0.7945\n",
      "Epoch 5/10\n",
      "6166/6166 [==============================] - 1s 109us/sample - loss: 0.1740 - accuracy: 0.9371 - val_loss: 0.5712 - val_accuracy: 0.7915\n",
      "Epoch 6/10\n",
      "6166/6166 [==============================] - 1s 114us/sample - loss: 0.1455 - accuracy: 0.9483 - val_loss: 0.6181 - val_accuracy: 0.7945\n",
      "Epoch 7/10\n",
      "6166/6166 [==============================] - 1s 129us/sample - loss: 0.1233 - accuracy: 0.9575 - val_loss: 0.6753 - val_accuracy: 0.7901\n",
      "Epoch 8/10\n",
      "6166/6166 [==============================] - 1s 111us/sample - loss: 0.1058 - accuracy: 0.9655 - val_loss: 0.7363 - val_accuracy: 0.7843\n",
      "Epoch 9/10\n",
      "6166/6166 [==============================] - 1s 123us/sample - loss: 0.0946 - accuracy: 0.9679 - val_loss: 0.7653 - val_accuracy: 0.7813\n",
      "Epoch 10/10\n",
      "6166/6166 [==============================] - 1s 103us/sample - loss: 0.0858 - accuracy: 0.9692 - val_loss: 0.8174 - val_accuracy: 0.7784\n",
      "INFO:tensorflow:Assets written to: 3-conv-128-nodes-1-dense.model/assets\n"
     ]
    },
    {
     "name": "stderr",
     "output_type": "stream",
     "text": [
      "INFO:tensorflow:Assets written to: 3-conv-128-nodes-1-dense.model/assets\n",
      "INFO:root:1-conv-32-nodes-2-dense\n"
     ]
    },
    {
     "name": "stdout",
     "output_type": "stream",
     "text": [
      "Train on 6166 samples, validate on 686 samples\n",
      "Epoch 1/10\n",
      "6166/6166 [==============================] - 1s 143us/sample - loss: 0.5634 - accuracy: 0.7144 - val_loss: 0.4548 - val_accuracy: 0.8017\n",
      "Epoch 2/10\n",
      "6166/6166 [==============================] - 0s 64us/sample - loss: 0.3559 - accuracy: 0.8527 - val_loss: 0.4718 - val_accuracy: 0.7915\n",
      "Epoch 3/10\n",
      "6166/6166 [==============================] - 0s 57us/sample - loss: 0.2604 - accuracy: 0.8939 - val_loss: 0.5158 - val_accuracy: 0.7872\n",
      "Epoch 4/10\n",
      "6166/6166 [==============================] - 0s 63us/sample - loss: 0.1974 - accuracy: 0.9260 - val_loss: 0.5833 - val_accuracy: 0.7915\n",
      "Epoch 5/10\n",
      "6166/6166 [==============================] - 0s 60us/sample - loss: 0.1467 - accuracy: 0.9491 - val_loss: 0.7099 - val_accuracy: 0.7726\n",
      "Epoch 6/10\n",
      "6166/6166 [==============================] - 0s 60us/sample - loss: 0.1192 - accuracy: 0.9577 - val_loss: 0.7334 - val_accuracy: 0.7886\n",
      "Epoch 7/10\n",
      "6166/6166 [==============================] - 0s 61us/sample - loss: 0.0977 - accuracy: 0.9642 - val_loss: 0.8268 - val_accuracy: 0.7624\n",
      "Epoch 8/10\n",
      "6166/6166 [==============================] - 0s 66us/sample - loss: 0.0819 - accuracy: 0.9719 - val_loss: 0.9080 - val_accuracy: 0.7653\n",
      "Epoch 9/10\n",
      "6166/6166 [==============================] - 0s 55us/sample - loss: 0.0780 - accuracy: 0.9706 - val_loss: 0.9497 - val_accuracy: 0.7609\n",
      "Epoch 10/10\n",
      "6166/6166 [==============================] - 0s 66us/sample - loss: 0.0663 - accuracy: 0.9742 - val_loss: 1.0143 - val_accuracy: 0.7624\n",
      "INFO:tensorflow:Assets written to: 1-conv-32-nodes-2-dense.model/assets\n"
     ]
    },
    {
     "name": "stderr",
     "output_type": "stream",
     "text": [
      "INFO:tensorflow:Assets written to: 1-conv-32-nodes-2-dense.model/assets\n",
      "INFO:root:2-conv-32-nodes-2-dense\n"
     ]
    },
    {
     "name": "stdout",
     "output_type": "stream",
     "text": [
      "Train on 6166 samples, validate on 686 samples\n",
      "Epoch 1/10\n",
      "6166/6166 [==============================] - 1s 132us/sample - loss: 0.5515 - accuracy: 0.7421 - val_loss: 0.4492 - val_accuracy: 0.8017\n",
      "Epoch 2/10\n",
      "6166/6166 [==============================] - 0s 77us/sample - loss: 0.3576 - accuracy: 0.8555 - val_loss: 0.4489 - val_accuracy: 0.8047\n",
      "Epoch 3/10\n",
      "6166/6166 [==============================] - 0s 67us/sample - loss: 0.2677 - accuracy: 0.8944 - val_loss: 0.4925 - val_accuracy: 0.8047\n",
      "Epoch 4/10\n",
      "6166/6166 [==============================] - 0s 58us/sample - loss: 0.2010 - accuracy: 0.9262 - val_loss: 0.5601 - val_accuracy: 0.7843\n",
      "Epoch 5/10\n",
      "6166/6166 [==============================] - 0s 65us/sample - loss: 0.1478 - accuracy: 0.9437 - val_loss: 0.6477 - val_accuracy: 0.7872\n",
      "Epoch 6/10\n",
      "6166/6166 [==============================] - 0s 58us/sample - loss: 0.1069 - accuracy: 0.9625 - val_loss: 0.7506 - val_accuracy: 0.7813\n",
      "Epoch 7/10\n",
      "6166/6166 [==============================] - 0s 66us/sample - loss: 0.0851 - accuracy: 0.9692 - val_loss: 0.8303 - val_accuracy: 0.7726\n",
      "Epoch 8/10\n",
      "6166/6166 [==============================] - 0s 67us/sample - loss: 0.0736 - accuracy: 0.9700 - val_loss: 0.8900 - val_accuracy: 0.7711\n",
      "Epoch 9/10\n",
      "6166/6166 [==============================] - 0s 61us/sample - loss: 0.0628 - accuracy: 0.9744 - val_loss: 0.9617 - val_accuracy: 0.7711\n",
      "Epoch 10/10\n",
      "6166/6166 [==============================] - 0s 73us/sample - loss: 0.0546 - accuracy: 0.9766 - val_loss: 1.0550 - val_accuracy: 0.7726\n",
      "INFO:tensorflow:Assets written to: 2-conv-32-nodes-2-dense.model/assets\n"
     ]
    },
    {
     "name": "stderr",
     "output_type": "stream",
     "text": [
      "INFO:tensorflow:Assets written to: 2-conv-32-nodes-2-dense.model/assets\n",
      "INFO:root:3-conv-32-nodes-2-dense\n"
     ]
    },
    {
     "name": "stdout",
     "output_type": "stream",
     "text": [
      "Train on 6166 samples, validate on 686 samples\n",
      "Epoch 1/10\n",
      "6166/6166 [==============================] - 1s 159us/sample - loss: 0.5620 - accuracy: 0.7129 - val_loss: 0.4581 - val_accuracy: 0.7945\n",
      "Epoch 2/10\n",
      "6166/6166 [==============================] - 1s 180us/sample - loss: 0.3580 - accuracy: 0.8511 - val_loss: 0.4565 - val_accuracy: 0.8017\n",
      "Epoch 3/10\n",
      "6166/6166 [==============================] - 1s 173us/sample - loss: 0.2636 - accuracy: 0.8985 - val_loss: 0.5204 - val_accuracy: 0.7872\n",
      "Epoch 4/10\n",
      "6166/6166 [==============================] - 1s 175us/sample - loss: 0.2035 - accuracy: 0.9238 - val_loss: 0.5769 - val_accuracy: 0.8017\n",
      "Epoch 5/10\n",
      "6166/6166 [==============================] - 1s 169us/sample - loss: 0.1513 - accuracy: 0.9452 - val_loss: 0.6836 - val_accuracy: 0.7755\n",
      "Epoch 6/10\n",
      "6166/6166 [==============================] - 0s 77us/sample - loss: 0.1178 - accuracy: 0.9588 - val_loss: 0.7819 - val_accuracy: 0.7726\n",
      "Epoch 7/10\n",
      "6166/6166 [==============================] - 0s 62us/sample - loss: 0.0965 - accuracy: 0.9656 - val_loss: 0.8475 - val_accuracy: 0.7784\n",
      "Epoch 8/10\n",
      "6166/6166 [==============================] - 0s 64us/sample - loss: 0.0804 - accuracy: 0.9693 - val_loss: 0.9085 - val_accuracy: 0.7755\n",
      "Epoch 9/10\n",
      "6166/6166 [==============================] - 0s 61us/sample - loss: 0.0710 - accuracy: 0.9731 - val_loss: 0.9678 - val_accuracy: 0.7770\n",
      "Epoch 10/10\n",
      "6166/6166 [==============================] - 0s 63us/sample - loss: 0.0640 - accuracy: 0.9753 - val_loss: 1.0373 - val_accuracy: 0.7770\n",
      "INFO:tensorflow:Assets written to: 3-conv-32-nodes-2-dense.model/assets\n"
     ]
    },
    {
     "name": "stderr",
     "output_type": "stream",
     "text": [
      "INFO:tensorflow:Assets written to: 3-conv-32-nodes-2-dense.model/assets\n",
      "INFO:root:1-conv-64-nodes-2-dense\n"
     ]
    },
    {
     "name": "stdout",
     "output_type": "stream",
     "text": [
      "Train on 6166 samples, validate on 686 samples\n",
      "Epoch 1/10\n",
      "6166/6166 [==============================] - 1s 137us/sample - loss: 0.5375 - accuracy: 0.7332 - val_loss: 0.4435 - val_accuracy: 0.8090\n",
      "Epoch 2/10\n",
      "6166/6166 [==============================] - 0s 76us/sample - loss: 0.3309 - accuracy: 0.8641 - val_loss: 0.4665 - val_accuracy: 0.7988\n",
      "Epoch 3/10\n",
      "6166/6166 [==============================] - 0s 78us/sample - loss: 0.2298 - accuracy: 0.9132 - val_loss: 0.5439 - val_accuracy: 0.7784\n",
      "Epoch 4/10\n",
      "6166/6166 [==============================] - 0s 73us/sample - loss: 0.1555 - accuracy: 0.9442 - val_loss: 0.6704 - val_accuracy: 0.7741\n",
      "Epoch 5/10\n",
      "6166/6166 [==============================] - 0s 75us/sample - loss: 0.1119 - accuracy: 0.9599 - val_loss: 0.7137 - val_accuracy: 0.7857\n",
      "Epoch 6/10\n",
      "6166/6166 [==============================] - 0s 74us/sample - loss: 0.0834 - accuracy: 0.9690 - val_loss: 0.8698 - val_accuracy: 0.7784\n",
      "Epoch 7/10\n",
      "6166/6166 [==============================] - 0s 72us/sample - loss: 0.0682 - accuracy: 0.9731 - val_loss: 0.9326 - val_accuracy: 0.7813\n",
      "Epoch 8/10\n",
      "6166/6166 [==============================] - 0s 77us/sample - loss: 0.0599 - accuracy: 0.9758 - val_loss: 0.9828 - val_accuracy: 0.7770\n",
      "Epoch 9/10\n",
      "6166/6166 [==============================] - 0s 72us/sample - loss: 0.0518 - accuracy: 0.9778 - val_loss: 1.0366 - val_accuracy: 0.7741\n",
      "Epoch 10/10\n",
      "6166/6166 [==============================] - 0s 72us/sample - loss: 0.0485 - accuracy: 0.9776 - val_loss: 1.1046 - val_accuracy: 0.7799\n",
      "INFO:tensorflow:Assets written to: 1-conv-64-nodes-2-dense.model/assets\n"
     ]
    },
    {
     "name": "stderr",
     "output_type": "stream",
     "text": [
      "INFO:tensorflow:Assets written to: 1-conv-64-nodes-2-dense.model/assets\n",
      "INFO:root:2-conv-64-nodes-2-dense\n"
     ]
    },
    {
     "name": "stdout",
     "output_type": "stream",
     "text": [
      "Train on 6166 samples, validate on 686 samples\n",
      "Epoch 1/10\n",
      "6166/6166 [==============================] - 1s 135us/sample - loss: 0.5401 - accuracy: 0.7379 - val_loss: 0.4551 - val_accuracy: 0.7974\n",
      "Epoch 2/10\n",
      "6166/6166 [==============================] - 0s 73us/sample - loss: 0.3369 - accuracy: 0.8583 - val_loss: 0.4516 - val_accuracy: 0.8076\n",
      "Epoch 3/10\n",
      "6166/6166 [==============================] - 0s 72us/sample - loss: 0.2338 - accuracy: 0.9103 - val_loss: 0.5335 - val_accuracy: 0.7974\n",
      "Epoch 4/10\n",
      "6166/6166 [==============================] - 0s 75us/sample - loss: 0.1606 - accuracy: 0.9424 - val_loss: 0.6408 - val_accuracy: 0.7988\n",
      "Epoch 5/10\n",
      "6166/6166 [==============================] - 1s 89us/sample - loss: 0.1143 - accuracy: 0.9565 - val_loss: 0.7356 - val_accuracy: 0.7770\n",
      "Epoch 6/10\n",
      "6166/6166 [==============================] - 1s 82us/sample - loss: 0.0832 - accuracy: 0.9685 - val_loss: 0.8469 - val_accuracy: 0.7901\n",
      "Epoch 7/10\n",
      "6166/6166 [==============================] - 0s 73us/sample - loss: 0.0679 - accuracy: 0.9724 - val_loss: 0.9181 - val_accuracy: 0.7784\n",
      "Epoch 8/10\n",
      "6166/6166 [==============================] - 0s 76us/sample - loss: 0.0587 - accuracy: 0.9752 - val_loss: 1.0201 - val_accuracy: 0.7828\n",
      "Epoch 9/10\n",
      "6166/6166 [==============================] - 0s 78us/sample - loss: 0.0500 - accuracy: 0.9768 - val_loss: 1.0776 - val_accuracy: 0.7609\n",
      "Epoch 10/10\n",
      "6166/6166 [==============================] - 0s 80us/sample - loss: 0.0463 - accuracy: 0.9776 - val_loss: 1.1302 - val_accuracy: 0.7799\n",
      "INFO:tensorflow:Assets written to: 2-conv-64-nodes-2-dense.model/assets\n"
     ]
    },
    {
     "name": "stderr",
     "output_type": "stream",
     "text": [
      "INFO:tensorflow:Assets written to: 2-conv-64-nodes-2-dense.model/assets\n",
      "INFO:root:3-conv-64-nodes-2-dense\n"
     ]
    },
    {
     "name": "stdout",
     "output_type": "stream",
     "text": [
      "Train on 6166 samples, validate on 686 samples\n",
      "Epoch 1/10\n",
      "6166/6166 [==============================] - 1s 182us/sample - loss: 0.5287 - accuracy: 0.7446 - val_loss: 0.4458 - val_accuracy: 0.8061\n",
      "Epoch 2/10\n",
      "6166/6166 [==============================] - 0s 75us/sample - loss: 0.3337 - accuracy: 0.8634 - val_loss: 0.4609 - val_accuracy: 0.8003\n",
      "Epoch 3/10\n",
      "6166/6166 [==============================] - 0s 72us/sample - loss: 0.2354 - accuracy: 0.9119 - val_loss: 0.5303 - val_accuracy: 0.7828\n",
      "Epoch 4/10\n",
      "6166/6166 [==============================] - 0s 76us/sample - loss: 0.1633 - accuracy: 0.9382 - val_loss: 0.6366 - val_accuracy: 0.7741\n",
      "Epoch 5/10\n",
      "6166/6166 [==============================] - 0s 72us/sample - loss: 0.1155 - accuracy: 0.9591 - val_loss: 0.7678 - val_accuracy: 0.7726\n",
      "Epoch 6/10\n",
      "6166/6166 [==============================] - 0s 74us/sample - loss: 0.0877 - accuracy: 0.9690 - val_loss: 0.8367 - val_accuracy: 0.7857\n",
      "Epoch 7/10\n",
      "6166/6166 [==============================] - 0s 77us/sample - loss: 0.0731 - accuracy: 0.9731 - val_loss: 0.8866 - val_accuracy: 0.7770\n",
      "Epoch 8/10\n",
      "6166/6166 [==============================] - 1s 87us/sample - loss: 0.0646 - accuracy: 0.9749 - val_loss: 0.9265 - val_accuracy: 0.7770\n",
      "Epoch 9/10\n",
      "6166/6166 [==============================] - 1s 88us/sample - loss: 0.0564 - accuracy: 0.9758 - val_loss: 1.0014 - val_accuracy: 0.7813\n",
      "Epoch 10/10\n",
      "6166/6166 [==============================] - 1s 91us/sample - loss: 0.0507 - accuracy: 0.9781 - val_loss: 1.0337 - val_accuracy: 0.7711\n",
      "INFO:tensorflow:Assets written to: 3-conv-64-nodes-2-dense.model/assets\n"
     ]
    },
    {
     "name": "stderr",
     "output_type": "stream",
     "text": [
      "INFO:tensorflow:Assets written to: 3-conv-64-nodes-2-dense.model/assets\n",
      "INFO:root:1-conv-128-nodes-2-dense\n"
     ]
    },
    {
     "name": "stdout",
     "output_type": "stream",
     "text": [
      "Train on 6166 samples, validate on 686 samples\n",
      "Epoch 1/10\n",
      "6166/6166 [==============================] - 1s 180us/sample - loss: 0.5221 - accuracy: 0.7519 - val_loss: 0.4417 - val_accuracy: 0.8047\n",
      "Epoch 2/10\n",
      "6166/6166 [==============================] - 1s 112us/sample - loss: 0.3144 - accuracy: 0.8703 - val_loss: 0.4832 - val_accuracy: 0.7901\n",
      "Epoch 3/10\n",
      "6166/6166 [==============================] - 1s 109us/sample - loss: 0.1990 - accuracy: 0.9249 - val_loss: 0.5895 - val_accuracy: 0.7930\n",
      "Epoch 4/10\n",
      "6166/6166 [==============================] - 1s 119us/sample - loss: 0.1228 - accuracy: 0.9531 - val_loss: 0.7655 - val_accuracy: 0.7784\n",
      "Epoch 5/10\n",
      "6166/6166 [==============================] - 1s 114us/sample - loss: 0.0840 - accuracy: 0.9681 - val_loss: 0.8381 - val_accuracy: 0.7857\n",
      "Epoch 6/10\n",
      "6166/6166 [==============================] - 1s 124us/sample - loss: 0.0647 - accuracy: 0.9732 - val_loss: 0.9268 - val_accuracy: 0.7828\n",
      "Epoch 7/10\n",
      "6166/6166 [==============================] - 1s 117us/sample - loss: 0.0523 - accuracy: 0.9766 - val_loss: 1.0762 - val_accuracy: 0.7872\n",
      "Epoch 8/10\n",
      "6166/6166 [==============================] - 1s 110us/sample - loss: 0.0460 - accuracy: 0.9776 - val_loss: 1.1409 - val_accuracy: 0.7828\n",
      "Epoch 9/10\n",
      "6166/6166 [==============================] - 1s 109us/sample - loss: 0.0415 - accuracy: 0.9781 - val_loss: 1.2233 - val_accuracy: 0.7857\n",
      "Epoch 10/10\n",
      "6166/6166 [==============================] - 1s 112us/sample - loss: 0.0410 - accuracy: 0.9801 - val_loss: 1.2972 - val_accuracy: 0.7886\n",
      "INFO:tensorflow:Assets written to: 1-conv-128-nodes-2-dense.model/assets\n"
     ]
    },
    {
     "name": "stderr",
     "output_type": "stream",
     "text": [
      "INFO:tensorflow:Assets written to: 1-conv-128-nodes-2-dense.model/assets\n",
      "INFO:root:2-conv-128-nodes-2-dense\n"
     ]
    },
    {
     "name": "stdout",
     "output_type": "stream",
     "text": [
      "Train on 6166 samples, validate on 686 samples\n",
      "Epoch 1/10\n",
      "6166/6166 [==============================] - 1s 191us/sample - loss: 0.5221 - accuracy: 0.7494 - val_loss: 0.4458 - val_accuracy: 0.8017\n",
      "Epoch 2/10\n",
      "6166/6166 [==============================] - 1s 125us/sample - loss: 0.3156 - accuracy: 0.8725 - val_loss: 0.4862 - val_accuracy: 0.7901\n",
      "Epoch 3/10\n",
      "6166/6166 [==============================] - 1s 123us/sample - loss: 0.2046 - accuracy: 0.9257 - val_loss: 0.5755 - val_accuracy: 0.7930\n",
      "Epoch 4/10\n",
      "6166/6166 [==============================] - 1s 119us/sample - loss: 0.1271 - accuracy: 0.9557 - val_loss: 0.7279 - val_accuracy: 0.7770\n",
      "Epoch 5/10\n",
      "6166/6166 [==============================] - 1s 111us/sample - loss: 0.0911 - accuracy: 0.9658 - val_loss: 0.8198 - val_accuracy: 0.7872\n",
      "Epoch 6/10\n",
      "6166/6166 [==============================] - 1s 113us/sample - loss: 0.0669 - accuracy: 0.9739 - val_loss: 0.9157 - val_accuracy: 0.7886\n",
      "Epoch 7/10\n",
      "6166/6166 [==============================] - 1s 122us/sample - loss: 0.0535 - accuracy: 0.9757 - val_loss: 1.0386 - val_accuracy: 0.7813\n",
      "Epoch 8/10\n",
      "6166/6166 [==============================] - 1s 127us/sample - loss: 0.0465 - accuracy: 0.9784 - val_loss: 1.1365 - val_accuracy: 0.7843\n",
      "Epoch 9/10\n",
      "6166/6166 [==============================] - 1s 128us/sample - loss: 0.0428 - accuracy: 0.9786 - val_loss: 1.2129 - val_accuracy: 0.7697\n",
      "Epoch 10/10\n",
      "6166/6166 [==============================] - 1s 127us/sample - loss: 0.0396 - accuracy: 0.9794 - val_loss: 1.3251 - val_accuracy: 0.7988\n",
      "INFO:tensorflow:Assets written to: 2-conv-128-nodes-2-dense.model/assets\n"
     ]
    },
    {
     "name": "stderr",
     "output_type": "stream",
     "text": [
      "INFO:tensorflow:Assets written to: 2-conv-128-nodes-2-dense.model/assets\n",
      "INFO:root:3-conv-128-nodes-2-dense\n"
     ]
    },
    {
     "name": "stdout",
     "output_type": "stream",
     "text": [
      "Train on 6166 samples, validate on 686 samples\n",
      "Epoch 1/10\n",
      "6166/6166 [==============================] - 1s 178us/sample - loss: 0.5162 - accuracy: 0.7566 - val_loss: 0.4545 - val_accuracy: 0.8061\n",
      "Epoch 2/10\n",
      "6166/6166 [==============================] - 1s 138us/sample - loss: 0.3151 - accuracy: 0.8759 - val_loss: 0.4858 - val_accuracy: 0.7930\n",
      "Epoch 3/10\n",
      "6166/6166 [==============================] - 1s 126us/sample - loss: 0.2050 - accuracy: 0.9225 - val_loss: 0.5590 - val_accuracy: 0.7813\n",
      "Epoch 4/10\n",
      "6166/6166 [==============================] - 1s 140us/sample - loss: 0.1324 - accuracy: 0.9517 - val_loss: 0.6937 - val_accuracy: 0.7770\n",
      "Epoch 5/10\n",
      "6166/6166 [==============================] - 1s 113us/sample - loss: 0.0865 - accuracy: 0.9650 - val_loss: 0.8420 - val_accuracy: 0.7755\n",
      "Epoch 6/10\n",
      "6166/6166 [==============================] - 1s 119us/sample - loss: 0.0685 - accuracy: 0.9716 - val_loss: 0.9603 - val_accuracy: 0.7741\n",
      "Epoch 7/10\n",
      "6166/6166 [==============================] - 1s 114us/sample - loss: 0.0545 - accuracy: 0.9768 - val_loss: 1.0398 - val_accuracy: 0.7784\n",
      "Epoch 8/10\n",
      "6166/6166 [==============================] - 1s 118us/sample - loss: 0.0478 - accuracy: 0.9778 - val_loss: 1.1667 - val_accuracy: 0.7799\n",
      "Epoch 9/10\n",
      "6166/6166 [==============================] - 1s 109us/sample - loss: 0.0418 - accuracy: 0.9804 - val_loss: 1.2735 - val_accuracy: 0.7784\n",
      "Epoch 10/10\n",
      "6166/6166 [==============================] - 1s 111us/sample - loss: 0.0412 - accuracy: 0.9797 - val_loss: 1.2667 - val_accuracy: 0.7843\n",
      "INFO:tensorflow:Assets written to: 3-conv-128-nodes-2-dense.model/assets\n"
     ]
    },
    {
     "name": "stderr",
     "output_type": "stream",
     "text": [
      "INFO:tensorflow:Assets written to: 3-conv-128-nodes-2-dense.model/assets\n"
     ]
    }
   ],
   "source": [
    "dense_layers = [0, 1, 2]\n",
    "layer_sizes = [32, 64, 128]\n",
    "conv_layers = [1, 2, 3]\n",
    "\n",
    "for dense_layer in dense_layers:\n",
    "    for layer_size in layer_sizes:\n",
    "        for conv_layer in conv_layers:\n",
    "            NAME = f'{conv_layer}-conv-{layer_size}-nodes-{dense_layer}-dense'\n",
    "            logging.info(NAME)\n",
    "            tensorboard = TensorBoard(log_dir=f'{DIR}/logs/{NAME}')\n",
    "            model = Sequential()\n",
    "\n",
    "            model.add(Activation('relu'))\n",
    "            \n",
    "            for l in range(conv_layer - 1):\n",
    "\n",
    "                model.add(Activation('relu'))\n",
    "\n",
    "            model.add(Flatten())\n",
    "            for l in range(dense_layer):\n",
    "                model.add(Dense(layer_size))\n",
    "                model.add(Activation('relu'))\n",
    "\n",
    "            model.add(Dense(1))\n",
    "            model.add(Activation('sigmoid'))\n",
    "\n",
    "            model.compile(loss='binary_crossentropy', optimizer='adam', metrics=['accuracy'])\n",
    "\n",
    "            #y = np.asarray(train_y)\n",
    "            \n",
    "            model.fit(train_x, train_y, batch_size=32, validation_split=0.1, epochs=10, callbacks=[tensorboard])\n",
    "            \n",
    "            model.save(f'{NAME}.model')"
   ]
  },
  {
   "cell_type": "code",
   "execution_count": null,
   "metadata": {},
   "outputs": [],
   "source": []
  }
 ],
 "metadata": {
  "kernelspec": {
   "display_name": "Python 3",
   "language": "python",
   "name": "python3"
  },
  "language_info": {
   "codemirror_mode": {
    "name": "ipython",
    "version": 3
   },
   "file_extension": ".py",
   "mimetype": "text/x-python",
   "name": "python",
   "nbconvert_exporter": "python",
   "pygments_lexer": "ipython3",
   "version": "3.7.4"
  }
 },
 "nbformat": 4,
 "nbformat_minor": 2
}
